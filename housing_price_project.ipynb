{
  "metadata": {
    "kernelspec": {
      "language": "python",
      "display_name": "Python 3",
      "name": "python3"
    },
    "language_info": {
      "name": "python",
      "version": "3.10.13",
      "mimetype": "text/x-python",
      "codemirror_mode": {
        "name": "ipython",
        "version": 3
      },
      "pygments_lexer": "ipython3",
      "nbconvert_exporter": "python",
      "file_extension": ".py"
    },
    "kaggle": {
      "accelerator": "none",
      "dataSources": [
        {
          "sourceId": 126865,
          "sourceType": "datasetVersion",
          "datasetId": 423
        }
      ],
      "dockerImageVersionId": 30698,
      "isInternetEnabled": true,
      "language": "python",
      "sourceType": "notebook",
      "isGpuEnabled": false
    },
    "colab": {
      "name": "housing price project",
      "provenance": [],
      "include_colab_link": true
    }
  },
  "nbformat_minor": 0,
  "nbformat": 4,
  "cells": [
    {
      "cell_type": "markdown",
      "metadata": {
        "id": "view-in-github",
        "colab_type": "text"
      },
      "source": [
        "<a href=\"https://colab.research.google.com/github/ralik45/Housing_Price/blob/main/housing_price_project.ipynb\" target=\"_parent\"><img src=\"https://colab.research.google.com/assets/colab-badge.svg\" alt=\"Open In Colab\"/></a>"
      ]
    },
    {
      "source": [
        "\n",
        "# IMPORTANT: RUN THIS CELL IN ORDER TO IMPORT YOUR KAGGLE DATA SOURCES\n",
        "# TO THE CORRECT LOCATION (/kaggle/input) IN YOUR NOTEBOOK,\n",
        "# THEN FEEL FREE TO DELETE THIS CELL.\n",
        "# NOTE: THIS NOTEBOOK ENVIRONMENT DIFFERS FROM KAGGLE'S PYTHON\n",
        "# ENVIRONMENT SO THERE MAY BE MISSING LIBRARIES USED BY YOUR\n",
        "# NOTEBOOK.\n",
        "\n",
        "import os\n",
        "import sys\n",
        "from tempfile import NamedTemporaryFile\n",
        "from urllib.request import urlopen\n",
        "from urllib.parse import unquote, urlparse\n",
        "from urllib.error import HTTPError\n",
        "from zipfile import ZipFile\n",
        "import tarfile\n",
        "import shutil\n",
        "\n",
        "CHUNK_SIZE = 40960\n",
        "DATA_SOURCE_MAPPING = 'melbourne-housing-market:https%3A%2F%2Fstorage.googleapis.com%2Fkaggle-data-sets%2F423%2F126865%2Fbundle%2Farchive.zip%3FX-Goog-Algorithm%3DGOOG4-RSA-SHA256%26X-Goog-Credential%3Dgcp-kaggle-com%2540kaggle-161607.iam.gserviceaccount.com%252F20240810%252Fauto%252Fstorage%252Fgoog4_request%26X-Goog-Date%3D20240810T092018Z%26X-Goog-Expires%3D259200%26X-Goog-SignedHeaders%3Dhost%26X-Goog-Signature%3D2731f70048258ddfa7215582e23a9055f38488cb8485a078fc621e09112f1ff21bd997554e3ebd2746cb89bc1e592633c80ab6c5cb4a200c171fccefef217098b3422e91a66a80d4478ed5e7d990ceb9a7f84daefd9f8f038fefb80e7c33b9b015867569356ac72bf44f5fe4179163f3bf31b528fdc2ae626bcb79aaebfbebf372245802e421fb8eaf725b04c3e733f0d7a7fa6b951272c2bd1ea6ad346430a0c8245685a8024ba43f06f27eef55665cdc2e1f378538d4841449276128f6439dc7880660cbeec9348d4fc379c75738629d069eb8396677beb2151ce91f8a10fd96f1035eca83d308b0d6f8145a4cd26115021ae3a5396a07b4f10a65d60d9b58'\n",
        "\n",
        "KAGGLE_INPUT_PATH='/kaggle/input'\n",
        "KAGGLE_WORKING_PATH='/kaggle/working'\n",
        "KAGGLE_SYMLINK='kaggle'\n",
        "\n",
        "!umount /kaggle/input/ 2> /dev/null\n",
        "shutil.rmtree('/kaggle/input', ignore_errors=True)\n",
        "os.makedirs(KAGGLE_INPUT_PATH, 0o777, exist_ok=True)\n",
        "os.makedirs(KAGGLE_WORKING_PATH, 0o777, exist_ok=True)\n",
        "\n",
        "try:\n",
        "  os.symlink(KAGGLE_INPUT_PATH, os.path.join(\"..\", 'input'), target_is_directory=True)\n",
        "except FileExistsError:\n",
        "  pass\n",
        "try:\n",
        "  os.symlink(KAGGLE_WORKING_PATH, os.path.join(\"..\", 'working'), target_is_directory=True)\n",
        "except FileExistsError:\n",
        "  pass\n",
        "\n",
        "for data_source_mapping in DATA_SOURCE_MAPPING.split(','):\n",
        "    directory, download_url_encoded = data_source_mapping.split(':')\n",
        "    download_url = unquote(download_url_encoded)\n",
        "    filename = urlparse(download_url).path\n",
        "    destination_path = os.path.join(KAGGLE_INPUT_PATH, directory)\n",
        "    try:\n",
        "        with urlopen(download_url) as fileres, NamedTemporaryFile() as tfile:\n",
        "            total_length = fileres.headers['content-length']\n",
        "            print(f'Downloading {directory}, {total_length} bytes compressed')\n",
        "            dl = 0\n",
        "            data = fileres.read(CHUNK_SIZE)\n",
        "            while len(data) > 0:\n",
        "                dl += len(data)\n",
        "                tfile.write(data)\n",
        "                done = int(50 * dl / int(total_length))\n",
        "                sys.stdout.write(f\"\\r[{'=' * done}{' ' * (50-done)}] {dl} bytes downloaded\")\n",
        "                sys.stdout.flush()\n",
        "                data = fileres.read(CHUNK_SIZE)\n",
        "            if filename.endswith('.zip'):\n",
        "              with ZipFile(tfile) as zfile:\n",
        "                zfile.extractall(destination_path)\n",
        "            else:\n",
        "              with tarfile.open(tfile.name) as tarfile:\n",
        "                tarfile.extractall(destination_path)\n",
        "            print(f'\\nDownloaded and uncompressed: {directory}')\n",
        "    except HTTPError as e:\n",
        "        print(f'Failed to load (likely expired) {download_url} to path {destination_path}')\n",
        "        continue\n",
        "    except OSError as e:\n",
        "        print(f'Failed to load {download_url} to path {destination_path}')\n",
        "        continue\n",
        "\n",
        "print('Data source import complete.')\n"
      ],
      "metadata": {
        "id": "Y3RgUhRjltVd"
      },
      "cell_type": "code",
      "outputs": [],
      "execution_count": null
    },
    {
      "cell_type": "code",
      "source": [
        "import numpy as np\n",
        "import pandas as pd\n",
        "import seaborn as sns\n",
        "import matplotlib.pyplot as plt\n",
        "\n",
        "from dateutil.parser import parse\n",
        "from datetime import datetime\n",
        "from scipy.stats import norm\n",
        "\n",
        "# import all what you need for machine learning\n",
        "import sklearn\n",
        "from sklearn.model_selection import cross_val_predict\n",
        "from sklearn.model_selection import cross_val_score\n",
        "from sklearn.model_selection import cross_validate\n",
        "from sklearn.model_selection import train_test_split\n",
        "from sklearn.linear_model import LinearRegression\n",
        "from sklearn.ensemble import RandomForestRegressor\n",
        "from sklearn.tree import DecisionTreeRegressor\n",
        "from sklearn.model_selection import RandomizedSearchCV\n",
        "from sklearn.model_selection import GridSearchCV\n",
        "from sklearn.linear_model import LinearRegression\n",
        "from sklearn.preprocessing import RobustScaler\n",
        "\n",
        "colors = [\"#bfd3e6\", \"#9b5b4f\", \"#4e4151\", \"#dbba78\", \"#bb9c55\", \"#909195\",\"#dc1e1e\",\"#a02933\",\"#716807\",\"#717cb4\"]"
      ],
      "metadata": {
        "_uuid": "8f2839f25d086af736a60e9eeb907d3b93b6e0e5",
        "_cell_guid": "b1076dfc-b9ad-4769-8c92-a6c4dae69d19",
        "execution": {
          "iopub.status.busy": "2024-06-03T13:15:08.655445Z",
          "iopub.execute_input": "2024-06-03T13:15:08.655939Z",
          "iopub.status.idle": "2024-06-03T13:15:12.300076Z",
          "shell.execute_reply.started": "2024-06-03T13:15:08.6559Z",
          "shell.execute_reply": "2024-06-03T13:15:12.298678Z"
        },
        "trusted": true,
        "id": "qmDAVW1mltVg"
      },
      "execution_count": null,
      "outputs": []
    },
    {
      "cell_type": "code",
      "source": [
        "house = pd.read_csv(\"/kaggle/input/melbourne-housing-market/MELBOURNE_HOUSE_PRICES_LESS.csv\")\n",
        "house"
      ],
      "metadata": {
        "execution": {
          "iopub.status.busy": "2024-06-03T13:15:12.302573Z",
          "iopub.execute_input": "2024-06-03T13:15:12.303432Z",
          "iopub.status.idle": "2024-06-03T13:15:12.68121Z",
          "shell.execute_reply.started": "2024-06-03T13:15:12.303388Z",
          "shell.execute_reply": "2024-06-03T13:15:12.679924Z"
        },
        "trusted": true,
        "id": "HiTyeDVOltVg"
      },
      "execution_count": null,
      "outputs": []
    },
    {
      "cell_type": "code",
      "source": [
        "house.describe().T.style.bar(subset=['mean'],color=colors[3]).background_gradient(subset=['std','50%','max'])"
      ],
      "metadata": {
        "execution": {
          "iopub.status.busy": "2024-06-03T13:15:12.682922Z",
          "iopub.execute_input": "2024-06-03T13:15:12.683393Z",
          "iopub.status.idle": "2024-06-03T13:15:12.836607Z",
          "shell.execute_reply.started": "2024-06-03T13:15:12.683344Z",
          "shell.execute_reply": "2024-06-03T13:15:12.835216Z"
        },
        "trusted": true,
        "id": "_SZ6D_-XltVh"
      },
      "execution_count": null,
      "outputs": []
    },
    {
      "cell_type": "code",
      "source": [
        "sns.distplot(house['Price'],color=colors[7])\n",
        "plt.axvline(x=house['Price'].mean(), color=colors[7], linestyle='--', linewidth=2)\n",
        "plt.title('Sales');"
      ],
      "metadata": {
        "execution": {
          "iopub.status.busy": "2024-06-03T13:15:12.839909Z",
          "iopub.execute_input": "2024-06-03T13:15:12.840586Z",
          "iopub.status.idle": "2024-06-03T13:15:13.788009Z",
          "shell.execute_reply.started": "2024-06-03T13:15:12.84054Z",
          "shell.execute_reply": "2024-06-03T13:15:13.786787Z"
        },
        "trusted": true,
        "id": "D50FhfRNltVh"
      },
      "execution_count": null,
      "outputs": []
    },
    {
      "cell_type": "code",
      "source": [
        "missing = house.isnull().sum()\n",
        "missing = missing[missing > 0]\n",
        "missing = missing.sort_values(ascending = False)\n",
        "missing.plot.bar(color=colors[7])\n",
        "plt.title('Missing Data');"
      ],
      "metadata": {
        "execution": {
          "iopub.status.busy": "2024-06-03T13:15:13.789665Z",
          "iopub.execute_input": "2024-06-03T13:15:13.790686Z",
          "iopub.status.idle": "2024-06-03T13:15:14.198757Z",
          "shell.execute_reply.started": "2024-06-03T13:15:13.790642Z",
          "shell.execute_reply": "2024-06-03T13:15:14.197495Z"
        },
        "trusted": true,
        "id": "tFtd_5BYltVi"
      },
      "execution_count": null,
      "outputs": []
    },
    {
      "cell_type": "code",
      "source": [
        "no_missing = house[house['Price'].notnull()]\n",
        "no_missing.isnull().sum().sort_values(ascending=False)"
      ],
      "metadata": {
        "execution": {
          "iopub.status.busy": "2024-06-03T13:15:14.20057Z",
          "iopub.execute_input": "2024-06-03T13:15:14.201118Z",
          "iopub.status.idle": "2024-06-03T13:15:14.264313Z",
          "shell.execute_reply.started": "2024-06-03T13:15:14.201083Z",
          "shell.execute_reply": "2024-06-03T13:15:14.263062Z"
        },
        "trusted": true,
        "id": "Hs-3WIZgltVi"
      },
      "execution_count": null,
      "outputs": []
    },
    {
      "cell_type": "code",
      "source": [
        "no_missing"
      ],
      "metadata": {
        "execution": {
          "iopub.status.busy": "2024-06-03T13:15:14.266347Z",
          "iopub.execute_input": "2024-06-03T13:15:14.266798Z",
          "iopub.status.idle": "2024-06-03T13:15:14.30509Z",
          "shell.execute_reply.started": "2024-06-03T13:15:14.266763Z",
          "shell.execute_reply": "2024-06-03T13:15:14.303735Z"
        },
        "trusted": true,
        "id": "f39eyyvAltVi"
      },
      "execution_count": null,
      "outputs": []
    },
    {
      "cell_type": "code",
      "source": [
        "no_missing['Type'].unique()"
      ],
      "metadata": {
        "execution": {
          "iopub.status.busy": "2024-06-03T13:15:14.307048Z",
          "iopub.execute_input": "2024-06-03T13:15:14.307592Z",
          "iopub.status.idle": "2024-06-03T13:15:14.32368Z",
          "shell.execute_reply.started": "2024-06-03T13:15:14.307544Z",
          "shell.execute_reply": "2024-06-03T13:15:14.32236Z"
        },
        "trusted": true,
        "id": "jL9i3gMvltVj"
      },
      "execution_count": null,
      "outputs": []
    },
    {
      "cell_type": "code",
      "source": [
        "no_missing = no_missing.drop(['Postcode','Propertycount','Address','Suburb','SellerG','Method', 'CouncilArea', 'Date'],axis=1)"
      ],
      "metadata": {
        "execution": {
          "iopub.status.busy": "2024-06-03T13:15:14.325885Z",
          "iopub.execute_input": "2024-06-03T13:15:14.327219Z",
          "iopub.status.idle": "2024-06-03T13:15:14.342763Z",
          "shell.execute_reply.started": "2024-06-03T13:15:14.327166Z",
          "shell.execute_reply": "2024-06-03T13:15:14.341021Z"
        },
        "trusted": true,
        "id": "FDmAjSeUltVj"
      },
      "execution_count": null,
      "outputs": []
    },
    {
      "cell_type": "code",
      "source": [
        "no_missing.head()"
      ],
      "metadata": {
        "execution": {
          "iopub.status.busy": "2024-06-03T13:15:14.348789Z",
          "iopub.execute_input": "2024-06-03T13:15:14.349403Z",
          "iopub.status.idle": "2024-06-03T13:15:14.366735Z",
          "shell.execute_reply.started": "2024-06-03T13:15:14.349358Z",
          "shell.execute_reply": "2024-06-03T13:15:14.365033Z"
        },
        "trusted": true,
        "id": "K6FmgrxwltVj"
      },
      "execution_count": null,
      "outputs": []
    },
    {
      "cell_type": "code",
      "source": [
        "df = no_missing\n",
        "df.info()"
      ],
      "metadata": {
        "execution": {
          "iopub.status.busy": "2024-06-03T13:15:14.368941Z",
          "iopub.execute_input": "2024-06-03T13:15:14.369734Z",
          "iopub.status.idle": "2024-06-03T13:15:14.402771Z",
          "shell.execute_reply.started": "2024-06-03T13:15:14.369689Z",
          "shell.execute_reply": "2024-06-03T13:15:14.400451Z"
        },
        "trusted": true,
        "id": "k1WGm7bLltVk"
      },
      "execution_count": null,
      "outputs": []
    },
    {
      "cell_type": "code",
      "source": [
        "hD= pd.get_dummies(df, columns= ['Type', 'Regionname'])\n",
        "hD.info()"
      ],
      "metadata": {
        "execution": {
          "iopub.status.busy": "2024-06-03T13:15:14.404367Z",
          "iopub.execute_input": "2024-06-03T13:15:14.405325Z",
          "iopub.status.idle": "2024-06-03T13:15:14.441229Z",
          "shell.execute_reply.started": "2024-06-03T13:15:14.405285Z",
          "shell.execute_reply": "2024-06-03T13:15:14.439871Z"
        },
        "trusted": true,
        "id": "sEopGNwxltVk"
      },
      "execution_count": null,
      "outputs": []
    },
    {
      "cell_type": "code",
      "source": [
        "hD"
      ],
      "metadata": {
        "execution": {
          "iopub.status.busy": "2024-06-03T13:19:26.197819Z",
          "iopub.execute_input": "2024-06-03T13:19:26.198405Z",
          "iopub.status.idle": "2024-06-03T13:19:26.232701Z",
          "shell.execute_reply.started": "2024-06-03T13:19:26.198361Z",
          "shell.execute_reply": "2024-06-03T13:19:26.231216Z"
        },
        "trusted": true,
        "id": "kAiExCDrltVk"
      },
      "execution_count": null,
      "outputs": []
    },
    {
      "cell_type": "code",
      "source": [
        "import numpy as np\n",
        "import cufflinks as cf\n",
        "import plotly.graph_objs as go\n",
        "from plotly.offline import iplot\n",
        "\n",
        "# Konversi array NumPy menjadi DataFrame\n",
        "df_hD = pd.DataFrame(hD)\n",
        "\n",
        "# Hitung korelasi\n",
        "df_corr = df_hD.corr()\n",
        "\n",
        "# Buat heatmap\n",
        "trace = [go.Heatmap(\n",
        "    z=df_corr.values.tolist(),\n",
        "    x=df_corr.columns,\n",
        "    y=df_corr.columns,\n",
        "    colorscale='bluered'\n",
        ")]\n",
        "\n",
        "layout = go.Layout(\n",
        "    title=\"Heatmap <br> Detecting Correlations\"\n",
        ")\n",
        "\n",
        "fig = dict(data=trace, layout=layout)\n",
        "\n",
        "# Plot heatmap\n",
        "iplot(fig, filename='pandas-heatmap')\n"
      ],
      "metadata": {
        "execution": {
          "iopub.status.busy": "2024-06-03T13:34:57.431683Z",
          "iopub.execute_input": "2024-06-03T13:34:57.432203Z",
          "iopub.status.idle": "2024-06-03T13:34:57.509587Z",
          "shell.execute_reply.started": "2024-06-03T13:34:57.432164Z",
          "shell.execute_reply": "2024-06-03T13:34:57.508187Z"
        },
        "trusted": true,
        "id": "jcCm0lHNltVl"
      },
      "execution_count": null,
      "outputs": []
    },
    {
      "cell_type": "code",
      "source": [
        "import numpy as np\n",
        "import tensorflow as tf\n",
        "from tensorflow import keras"
      ],
      "metadata": {
        "execution": {
          "iopub.status.busy": "2024-06-03T13:19:26.235549Z",
          "iopub.execute_input": "2024-06-03T13:19:26.2361Z",
          "iopub.status.idle": "2024-06-03T13:19:33.493628Z",
          "shell.execute_reply.started": "2024-06-03T13:19:26.236061Z",
          "shell.execute_reply": "2024-06-03T13:19:33.49248Z"
        },
        "trusted": true,
        "id": "HGFIQ8MTltVl"
      },
      "execution_count": null,
      "outputs": []
    },
    {
      "cell_type": "code",
      "source": [
        "model = tf.keras.Sequential([\n",
        "    keras.layers.Dense(units=32, input_shape=[1], activation='linear'),\n",
        "    keras.layers.Dense(units=1, activation='linear')\n",
        "])\n",
        "model.compile(optimizer='sgd', loss='mean_squared_error')\n",
        "model.fit(X, Y, epochs=1000)\n",
        "print(model.predict([-2.0, 10.0]))\n",
        "return model"
      ],
      "metadata": {
        "execution": {
          "iopub.status.busy": "2024-06-03T13:19:33.495034Z",
          "iopub.execute_input": "2024-06-03T13:19:33.495708Z",
          "iopub.status.idle": "2024-06-03T13:19:33.850359Z",
          "shell.execute_reply.started": "2024-06-03T13:19:33.495673Z",
          "shell.execute_reply": "2024-06-03T13:19:33.848044Z"
        },
        "trusted": true,
        "id": "iYvCVHJcltVl"
      },
      "execution_count": null,
      "outputs": []
    },
    {
      "cell_type": "code",
      "source": [
        "#create x and y variables\n",
        "X = hD.drop(\"Price\", axis=1)\n",
        "Y = hD[\"Price\"].copy()\n",
        "#transform to array size\n",
        "#feature scaling\n",
        "scaler = RobustScaler()\n",
        "hD= scaler.fit_transform(hD.astype(np.float64))"
      ],
      "metadata": {
        "execution": {
          "iopub.status.busy": "2024-06-03T13:22:04.737755Z",
          "iopub.execute_input": "2024-06-03T13:22:04.73903Z",
          "iopub.status.idle": "2024-06-03T13:22:04.78487Z",
          "shell.execute_reply.started": "2024-06-03T13:22:04.738951Z",
          "shell.execute_reply": "2024-06-03T13:22:04.783701Z"
        },
        "trusted": true,
        "id": "FipPQ0IhltVl"
      },
      "execution_count": null,
      "outputs": []
    },
    {
      "cell_type": "code",
      "source": [
        "from sklearn.model_selection import train_test_split\n",
        "x_train, x_test, y_train, y_test = train_test_split(X,Y, test_size = .20, random_state= 42)"
      ],
      "metadata": {
        "execution": {
          "iopub.status.busy": "2024-06-03T13:22:05.855673Z",
          "iopub.execute_input": "2024-06-03T13:22:05.856186Z",
          "iopub.status.idle": "2024-06-03T13:22:05.873403Z",
          "shell.execute_reply.started": "2024-06-03T13:22:05.856146Z",
          "shell.execute_reply": "2024-06-03T13:22:05.872036Z"
        },
        "trusted": true,
        "id": "OVgDRJ7VltVm"
      },
      "execution_count": null,
      "outputs": []
    },
    {
      "cell_type": "code",
      "source": [
        "#fit decision tree\n",
        "tree = DecisionTreeRegressor()\n",
        "tree.fit(x_train, y_train)\n",
        "#fit random forest\n",
        "forest = RandomForestRegressor(n_jobs=-1)\n",
        "forest.fit(x_train, y_train)\n",
        "#fit regression\n",
        "lin_reg = LinearRegression(n_jobs=-1)\n",
        "lin_reg.fit(x_train, y_train)"
      ],
      "metadata": {
        "execution": {
          "iopub.status.busy": "2024-06-03T13:22:06.48246Z",
          "iopub.execute_input": "2024-06-03T13:22:06.483019Z",
          "iopub.status.idle": "2024-06-03T13:22:07.832812Z",
          "shell.execute_reply.started": "2024-06-03T13:22:06.482975Z",
          "shell.execute_reply": "2024-06-03T13:22:07.831146Z"
        },
        "trusted": true,
        "id": "-x6iJoHwltVm"
      },
      "execution_count": null,
      "outputs": []
    },
    {
      "cell_type": "code",
      "source": [
        "models= [('lin_reg', lin_reg), ('random forest', forest), ('decision tree', tree)]\n",
        "from sklearn.metrics import mean_squared_error\n",
        "for i, model in models:\n",
        "    predictions = model.predict(x_train)\n",
        "    MSE = mean_squared_error(y_train, predictions)\n",
        "    RMSE = np.sqrt(MSE)\n",
        "    msg = \"%s = %.2f\" % (i, round(RMSE, 2))\n",
        "    print('RMSE of', msg)"
      ],
      "metadata": {
        "execution": {
          "iopub.status.busy": "2024-06-03T13:22:07.835752Z",
          "iopub.execute_input": "2024-06-03T13:22:07.837323Z",
          "iopub.status.idle": "2024-06-03T13:22:08.148697Z",
          "shell.execute_reply.started": "2024-06-03T13:22:07.837256Z",
          "shell.execute_reply": "2024-06-03T13:22:08.147576Z"
        },
        "trusted": true,
        "id": "5X3wFwBsltVm"
      },
      "execution_count": null,
      "outputs": []
    },
    {
      "cell_type": "code",
      "source": [
        "for i, model in models:\n",
        "    # Make predictions on train data\n",
        "    predictions = model.predict(x_train)\n",
        "    # Performance metrics\n",
        "    errors = abs(predictions - y_train)\n",
        "    # Calculate mean absolute percentage error (MAPE)\n",
        "    mape = np.mean(100 * (errors / y_train))\n",
        "    # Calculate and display accuracy\n",
        "    accuracy = 100 - mape\n",
        "    #print result\n",
        "    msg = \"%s= %.2f\"% (i, round(accuracy, 2))\n",
        "    print('Accuracy of', msg,'%')"
      ],
      "metadata": {
        "execution": {
          "iopub.status.busy": "2024-06-03T13:22:08.151027Z",
          "iopub.execute_input": "2024-06-03T13:22:08.151481Z",
          "iopub.status.idle": "2024-06-03T13:22:08.448874Z",
          "shell.execute_reply.started": "2024-06-03T13:22:08.151441Z",
          "shell.execute_reply": "2024-06-03T13:22:08.447406Z"
        },
        "trusted": true,
        "id": "MDkFK5BKltVm"
      },
      "execution_count": null,
      "outputs": []
    },
    {
      "cell_type": "code",
      "source": [
        "test_data = pd.read_csv('/kaggle/input/melbourne-housing-market/Melbourne_housing_FULL.csv')"
      ],
      "metadata": {
        "execution": {
          "iopub.status.busy": "2024-06-03T13:43:49.905793Z",
          "iopub.execute_input": "2024-06-03T13:43:49.906315Z",
          "iopub.status.idle": "2024-06-03T13:43:50.210029Z",
          "shell.execute_reply.started": "2024-06-03T13:43:49.906276Z",
          "shell.execute_reply": "2024-06-03T13:43:50.208598Z"
        },
        "trusted": true,
        "id": "QFZSiJuXltVm"
      },
      "execution_count": null,
      "outputs": []
    },
    {
      "cell_type": "code",
      "source": [
        "#create x and y variables\n",
        "X = test_data.drop(\"Price\", axis=1)\n",
        "Y = test_data[\"Price\"].copy()\n",
        "#transform to array size\n",
        "#feature scaling\n",
        "scaler = RobustScaler()\n",
        "test_data= scaler.fit_transform(hD.astype(np.float64))"
      ],
      "metadata": {
        "execution": {
          "iopub.status.busy": "2024-06-03T13:45:45.327668Z",
          "iopub.execute_input": "2024-06-03T13:45:45.328206Z",
          "iopub.status.idle": "2024-06-03T13:45:45.371688Z",
          "shell.execute_reply.started": "2024-06-03T13:45:45.328159Z",
          "shell.execute_reply": "2024-06-03T13:45:45.370423Z"
        },
        "trusted": true,
        "id": "bCRcFZMUltVm"
      },
      "execution_count": null,
      "outputs": []
    },
    {
      "cell_type": "code",
      "source": [
        "for i, model in models:\n",
        "    # Make predictions on train data\n",
        "    predictions = model.predict(x_train)\n",
        "    # Performance metrics\n",
        "    errors = abs(predictions - y_train)\n",
        "    # Calculate mean absolute percentage error (MAPE)\n",
        "    mape = np.mean(100 * (errors / y_train))\n",
        "    # Calculate and display accuracy\n",
        "    accuracy = 100 - mape\n",
        "    #print result\n",
        "    msg = \"%s= %.2f\"% (i, round(accuracy, 2))\n",
        "    print('Accuracy of', msg,'%')"
      ],
      "metadata": {
        "execution": {
          "iopub.status.busy": "2024-06-03T13:45:47.093086Z",
          "iopub.execute_input": "2024-06-03T13:45:47.093626Z",
          "iopub.status.idle": "2024-06-03T13:45:47.403169Z",
          "shell.execute_reply.started": "2024-06-03T13:45:47.093584Z",
          "shell.execute_reply": "2024-06-03T13:45:47.401796Z"
        },
        "trusted": true,
        "id": "IfWAbU3vltVn"
      },
      "execution_count": null,
      "outputs": []
    },
    {
      "cell_type": "code",
      "source": [
        "models= [('lin_reg', lin_reg), ('forest', forest), ('dt', tree)]\n",
        "scoring = ['neg_mean_squared_error', 'neg_mean_absolute_error', 'r2']\n",
        "\n",
        "#for each model I want to test three different scoring metrics. Therefore, results[0] will be lin_reg x MSE,\n",
        "# results[1] lin_reg x MSE and so on until results [8], where we stored dt x r2\n",
        "\n",
        "results= []\n",
        "metric= []\n",
        "for name, model in models:\n",
        "    for i in scoring:\n",
        "        scores = cross_validate(model, x_train, y_train, scoring=i, cv=10, return_train_score=True)\n",
        "        results.append(scores)"
      ],
      "metadata": {
        "execution": {
          "iopub.status.busy": "2024-06-03T13:22:08.668265Z",
          "iopub.execute_input": "2024-06-03T13:22:08.668647Z",
          "iopub.status.idle": "2024-06-03T13:22:54.012768Z",
          "shell.execute_reply.started": "2024-06-03T13:22:08.668618Z",
          "shell.execute_reply": "2024-06-03T13:22:54.01166Z"
        },
        "trusted": true,
        "id": "6PwuXEmpltVn"
      },
      "execution_count": null,
      "outputs": []
    },
    {
      "cell_type": "code",
      "source": [
        "#this is an example of the stored results\n",
        "results[8]"
      ],
      "metadata": {
        "execution": {
          "iopub.status.busy": "2024-06-03T13:22:54.014883Z",
          "iopub.execute_input": "2024-06-03T13:22:54.015347Z",
          "iopub.status.idle": "2024-06-03T13:22:54.024379Z",
          "shell.execute_reply.started": "2024-06-03T13:22:54.015306Z",
          "shell.execute_reply": "2024-06-03T13:22:54.023139Z"
        },
        "trusted": true,
        "id": "a4RNWLrfltVn"
      },
      "execution_count": null,
      "outputs": []
    },
    {
      "cell_type": "code",
      "source": [],
      "metadata": {
        "id": "oohq38-xltVn"
      },
      "execution_count": null,
      "outputs": []
    }
  ]
}